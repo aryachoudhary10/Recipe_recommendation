{
 "cells": [
  {
   "cell_type": "code",
   "execution_count": 2,
   "metadata": {},
   "outputs": [
    {
     "name": "stdout",
     "output_type": "stream",
     "text": [
      "Collecting pandas\n",
      "  Downloading pandas-2.2.3-cp313-cp313-win_amd64.whl.metadata (19 kB)\n",
      "Collecting numpy>=1.26.0 (from pandas)\n",
      "  Downloading numpy-2.2.4-cp313-cp313-win_amd64.whl.metadata (60 kB)\n",
      "Requirement already satisfied: python-dateutil>=2.8.2 in .\\venv\\lib\\site-packages (from pandas) (2.9.0.post0)\n",
      "Collecting pytz>=2020.1 (from pandas)\n",
      "  Using cached pytz-2025.2-py2.py3-none-any.whl.metadata (22 kB)\n",
      "Collecting tzdata>=2022.7 (from pandas)\n",
      "  Using cached tzdata-2025.2-py2.py3-none-any.whl.metadata (1.4 kB)\n",
      "Requirement already satisfied: six>=1.5 in .\\venv\\lib\\site-packages (from python-dateutil>=2.8.2->pandas) (1.17.0)\n",
      "Downloading pandas-2.2.3-cp313-cp313-win_amd64.whl (11.5 MB)\n",
      "   ---------------------------------------- 0.0/11.5 MB ? eta -:--:--\n",
      "   ------------ --------------------------- 3.7/11.5 MB 20.4 MB/s eta 0:00:01\n",
      "   ---------------- ----------------------- 4.7/11.5 MB 12.7 MB/s eta 0:00:01\n",
      "   -------------------- ------------------- 5.8/11.5 MB 9.9 MB/s eta 0:00:01\n",
      "   -------------------- ------------------- 5.8/11.5 MB 9.9 MB/s eta 0:00:01\n",
      "   --------------------- ------------------ 6.3/11.5 MB 6.1 MB/s eta 0:00:01\n",
      "   ----------------------- ---------------- 6.8/11.5 MB 5.5 MB/s eta 0:00:01\n",
      "   ------------------------- -------------- 7.3/11.5 MB 5.0 MB/s eta 0:00:01\n",
      "   --------------------------- ------------ 7.9/11.5 MB 4.7 MB/s eta 0:00:01\n",
      "   ----------------------------- ---------- 8.4/11.5 MB 4.5 MB/s eta 0:00:01\n",
      "   ------------------------------- -------- 8.9/11.5 MB 4.2 MB/s eta 0:00:01\n",
      "   -------------------------------- ------- 9.4/11.5 MB 4.1 MB/s eta 0:00:01\n",
      "   ---------------------------------- ----- 10.0/11.5 MB 3.9 MB/s eta 0:00:01\n",
      "   ----------------------------------- ---- 10.2/11.5 MB 3.7 MB/s eta 0:00:01\n",
      "   ------------------------------------- -- 10.7/11.5 MB 3.6 MB/s eta 0:00:01\n",
      "   ---------------------------------------  11.3/11.5 MB 3.5 MB/s eta 0:00:01\n",
      "   ---------------------------------------- 11.5/11.5 MB 3.4 MB/s eta 0:00:00\n",
      "Downloading numpy-2.2.4-cp313-cp313-win_amd64.whl (12.6 MB)\n",
      "   ---------------------------------------- 0.0/12.6 MB ? eta -:--:--\n",
      "    --------------------------------------- 0.3/12.6 MB ? eta -:--:--\n",
      "   -- ------------------------------------- 0.8/12.6 MB 2.4 MB/s eta 0:00:06\n",
      "   ---- ----------------------------------- 1.3/12.6 MB 2.2 MB/s eta 0:00:06\n",
      "   ----- ---------------------------------- 1.8/12.6 MB 2.2 MB/s eta 0:00:05\n",
      "   ------- -------------------------------- 2.4/12.6 MB 2.4 MB/s eta 0:00:05\n",
      "   ---------- ----------------------------- 3.4/12.6 MB 2.7 MB/s eta 0:00:04\n",
      "   ------------- -------------------------- 4.2/12.6 MB 2.9 MB/s eta 0:00:03\n",
      "   -------------- ------------------------- 4.7/12.6 MB 2.9 MB/s eta 0:00:03\n",
      "   ---------------- ----------------------- 5.2/12.6 MB 2.8 MB/s eta 0:00:03\n",
      "   ------------------ --------------------- 5.8/12.6 MB 2.8 MB/s eta 0:00:03\n",
      "   ------------------- -------------------- 6.3/12.6 MB 2.8 MB/s eta 0:00:03\n",
      "   --------------------- ------------------ 6.8/12.6 MB 2.7 MB/s eta 0:00:03\n",
      "   ------------------------ --------------- 7.6/12.6 MB 2.8 MB/s eta 0:00:02\n",
      "   ------------------------- -------------- 8.1/12.6 MB 2.8 MB/s eta 0:00:02\n",
      "   -------------------------- ------------- 8.4/12.6 MB 2.7 MB/s eta 0:00:02\n",
      "   ---------------------------- ----------- 8.9/12.6 MB 2.7 MB/s eta 0:00:02\n",
      "   ----------------------------- ---------- 9.4/12.6 MB 2.6 MB/s eta 0:00:02\n",
      "   ------------------------------- -------- 10.0/12.6 MB 2.6 MB/s eta 0:00:02\n",
      "   ---------------------------------- ----- 11.0/12.6 MB 2.8 MB/s eta 0:00:01\n",
      "   ------------------------------------ --- 11.5/12.6 MB 2.8 MB/s eta 0:00:01\n",
      "   -------------------------------------- - 12.3/12.6 MB 2.8 MB/s eta 0:00:01\n",
      "   ---------------------------------------- 12.6/12.6 MB 2.8 MB/s eta 0:00:00\n",
      "Using cached pytz-2025.2-py2.py3-none-any.whl (509 kB)\n",
      "Using cached tzdata-2025.2-py2.py3-none-any.whl (347 kB)\n",
      "Installing collected packages: pytz, tzdata, numpy, pandas\n",
      "Successfully installed numpy-2.2.4 pandas-2.2.3 pytz-2025.2 tzdata-2025.2\n"
     ]
    }
   ],
   "source": [
    "!pip install pandas\n",
    "import pandas as pd \n",
    "import numpy as np "
   ]
  },
  {
   "cell_type": "code",
   "execution_count": 3,
   "metadata": {},
   "outputs": [],
   "source": [
    "df = pd.read_csv(\"recipes.csv\")"
   ]
  },
  {
   "cell_type": "code",
   "execution_count": 4,
   "metadata": {},
   "outputs": [
    {
     "name": "stdout",
     "output_type": "stream",
     "text": [
      "   Unnamed: 0                  recipe_name prep_time cook_time     total_time  \\\n",
      "0           0     Apple-Cranberry Crostada       NaN       NaN            NaN   \n",
      "1           1    Apple Pie by Grandma Ople   30 mins     1 hrs  1 hrs 30 mins   \n",
      "2           2  Sarah's Homemade Applesauce   10 mins   15 mins        25 mins   \n",
      "3           3                  Apple Crisp   30 mins   45 mins  1 hrs 15 mins   \n",
      "4           4            Apple Pie Filling   20 mins   20 mins  2 hrs 40 mins   \n",
      "\n",
      "   servings              yield  \\\n",
      "0         8  6 to 8 - servings   \n",
      "1         8       1 9-inch pie   \n",
      "2         4                NaN   \n",
      "3        12    1 9x13-inch pan   \n",
      "4        40      5 9-inch pies   \n",
      "\n",
      "                                         ingredients  \\\n",
      "0  3 tablespoons butter, 2 pounds Granny Smith ap...   \n",
      "1  8 small Granny Smith apples, or as needed, ½ c...   \n",
      "2  4  apples - peeled, cored and chopped, ¾ cup w...   \n",
      "3  10 cups all-purpose apples, peeled, cored and ...   \n",
      "4  18 cups thinly sliced apples, 3 tablespoons le...   \n",
      "\n",
      "                                          directions  rating  \\\n",
      "0  Heat butter in a large skillet over medium-hig...     4.4   \n",
      "1  Peel and core apples, then thinly slice. Set a...     4.8   \n",
      "2  Combine apples, water, sugar, and cinnamon in ...     4.8   \n",
      "3  Preheat the oven to 350 degrees F (175 degrees...     4.7   \n",
      "4  Toss apples with lemon juice in a large bowl a...     4.7   \n",
      "\n",
      "                                                 url  \\\n",
      "0  https://www.allrecipes.com/recipe/76931/apple-...   \n",
      "1  https://www.allrecipes.com/recipe/12682/apple-...   \n",
      "2  https://www.allrecipes.com/recipe/51301/sarahs...   \n",
      "3  https://www.allrecipes.com/recipe/12409/apple-...   \n",
      "4  https://www.allrecipes.com/recipe/12681/apple-...   \n",
      "\n",
      "                                        cuisine_path  \\\n",
      "0    /Desserts/Fruit Desserts/Apple Dessert Recipes/   \n",
      "1                  /Desserts/Pies/Apple Pie Recipes/   \n",
      "2                     /Side Dish/Applesauce Recipes/   \n",
      "3  /Desserts/Crisps and Crumbles Recipes/Apple Cr...   \n",
      "4                  /Desserts/Pies/Apple Pie Recipes/   \n",
      "\n",
      "                                           nutrition  \\\n",
      "0  Total Fat 18g 23%, Saturated Fat 7g 34%, Chole...   \n",
      "1  Total Fat 19g 24%, Saturated Fat 9g 46%, Chole...   \n",
      "2  Total Fat 0g 0%, Sodium 3mg 0%, Total Carbohyd...   \n",
      "3  Total Fat 8g 11%, Saturated Fat 5g 25%, Choles...   \n",
      "4  Total Fat 0g 0%, Sodium 61mg 3%, Total Carbohy...   \n",
      "\n",
      "                                              timing  \\\n",
      "0              Servings: 8, Yield: 6 to 8 - servings   \n",
      "1  Prep Time: 30 mins, Cook Time: 1 hrs, Total Ti...   \n",
      "2  Prep Time: 10 mins, Cook Time: 15 mins, Total ...   \n",
      "3  Prep Time: 30 mins, Cook Time: 45 mins, Total ...   \n",
      "4  Prep Time: 20 mins, Cook Time: 20 mins, Additi...   \n",
      "\n",
      "                                             img_src  \n",
      "0  https://www.allrecipes.com/thmb/Tf1wH73bfH6Oql...  \n",
      "1  https://www.allrecipes.com/thmb/1I95oiTGz6aEpu...  \n",
      "2  https://www.allrecipes.com/thmb/VY5d0tZHB8xz6y...  \n",
      "3  https://www.allrecipes.com/thmb/uAzhPOh86PfR-N...  \n",
      "4  https://www.allrecipes.com/thmb/c0bbYaS1V_mTt_...  \n"
     ]
    }
   ],
   "source": [
    "print(df.head())"
   ]
  },
  {
   "cell_type": "code",
   "execution_count": 7,
   "metadata": {},
   "outputs": [
    {
     "data": {
      "text/plain": [
       "Unnamed: 0      1090\n",
       "recipe_name     1090\n",
       "prep_time       1039\n",
       "cook_time        782\n",
       "total_time      1045\n",
       "servings        1090\n",
       "yield            879\n",
       "ingredients     1090\n",
       "directions      1090\n",
       "rating          1090\n",
       "url             1090\n",
       "cuisine_path    1090\n",
       "nutrition       1090\n",
       "timing          1090\n",
       "img_src         1090\n",
       "dtype: int64"
      ]
     },
     "execution_count": 7,
     "metadata": {},
     "output_type": "execute_result"
    }
   ],
   "source": [
    "df.count()"
   ]
  },
  {
   "cell_type": "code",
   "execution_count": 8,
   "metadata": {},
   "outputs": [],
   "source": [
    "df[\"likes\"]=0\n",
    "df[\"dislikes\"]=0"
   ]
  },
  {
   "cell_type": "code",
   "execution_count": 9,
   "metadata": {},
   "outputs": [
    {
     "data": {
      "text/plain": [
       "Unnamed: 0      1090\n",
       "recipe_name     1090\n",
       "prep_time       1039\n",
       "cook_time        782\n",
       "total_time      1045\n",
       "servings        1090\n",
       "yield            879\n",
       "ingredients     1090\n",
       "directions      1090\n",
       "rating          1090\n",
       "url             1090\n",
       "cuisine_path    1090\n",
       "nutrition       1090\n",
       "timing          1090\n",
       "img_src         1090\n",
       "likes           1090\n",
       "dislikes        1090\n",
       "dtype: int64"
      ]
     },
     "execution_count": 9,
     "metadata": {},
     "output_type": "execute_result"
    }
   ],
   "source": [
    "df.count()"
   ]
  },
  {
   "cell_type": "code",
   "execution_count": 10,
   "metadata": {},
   "outputs": [],
   "source": [
    "df[\"comment\"]=\"[]\""
   ]
  },
  {
   "cell_type": "code",
   "execution_count": 28,
   "metadata": {},
   "outputs": [],
   "source": [
    "pdf.to_csv(\"recipes_updated.csv\", index=False)"
   ]
  },
  {
   "cell_type": "code",
   "execution_count": 12,
   "metadata": {},
   "outputs": [],
   "source": [
    "df_clean =df.dropna()"
   ]
  },
  {
   "cell_type": "code",
   "execution_count": 13,
   "metadata": {},
   "outputs": [
    {
     "data": {
      "text/plain": [
       "Unnamed: 0      1090\n",
       "recipe_name     1090\n",
       "prep_time       1039\n",
       "cook_time        782\n",
       "total_time      1045\n",
       "servings        1090\n",
       "yield            879\n",
       "ingredients     1090\n",
       "directions      1090\n",
       "rating          1090\n",
       "url             1090\n",
       "cuisine_path    1090\n",
       "nutrition       1090\n",
       "timing          1090\n",
       "img_src         1090\n",
       "likes           1090\n",
       "dislikes        1090\n",
       "comment         1090\n",
       "dtype: int64"
      ]
     },
     "execution_count": 13,
     "metadata": {},
     "output_type": "execute_result"
    }
   ],
   "source": [
    "df.count()"
   ]
  },
  {
   "cell_type": "code",
   "execution_count": 14,
   "metadata": {},
   "outputs": [],
   "source": [
    "for col in df.columns:\n",
    "    if pd.api.types.is_numeric_dtype(df[col]):  # Check if column is numeric\n",
    "        df[col] = df[col].fillna(0)            # Fill with 0 for numbers\n",
    "    else:\n",
    "        df[col] = df[col].fillna(\"0\") "
   ]
  },
  {
   "cell_type": "code",
   "execution_count": 15,
   "metadata": {},
   "outputs": [
    {
     "data": {
      "text/plain": [
       "Unnamed: 0      1090\n",
       "recipe_name     1090\n",
       "prep_time       1090\n",
       "cook_time       1090\n",
       "total_time      1090\n",
       "servings        1090\n",
       "yield           1090\n",
       "ingredients     1090\n",
       "directions      1090\n",
       "rating          1090\n",
       "url             1090\n",
       "cuisine_path    1090\n",
       "nutrition       1090\n",
       "timing          1090\n",
       "img_src         1090\n",
       "likes           1090\n",
       "dislikes        1090\n",
       "comment         1090\n",
       "dtype: int64"
      ]
     },
     "execution_count": 15,
     "metadata": {},
     "output_type": "execute_result"
    }
   ],
   "source": [
    "df.count()"
   ]
  },
  {
   "cell_type": "code",
   "execution_count": 18,
   "metadata": {},
   "outputs": [],
   "source": [
    "pdf=pd.read_csv(\"recipes_updated.csv\")"
   ]
  },
  {
   "cell_type": "code",
   "execution_count": 19,
   "metadata": {},
   "outputs": [
    {
     "data": {
      "text/plain": [
       "Unnamed: 0      1090\n",
       "recipe_name     1090\n",
       "prep_time       1090\n",
       "cook_time       1090\n",
       "total_time      1090\n",
       "servings        1090\n",
       "yield           1090\n",
       "ingredients     1090\n",
       "directions      1090\n",
       "rating          1090\n",
       "url             1090\n",
       "cuisine_path    1090\n",
       "nutrition       1090\n",
       "timing          1090\n",
       "img_src         1090\n",
       "likes           1090\n",
       "dislikes        1090\n",
       "comment         1090\n",
       "dtype: int64"
      ]
     },
     "execution_count": 19,
     "metadata": {},
     "output_type": "execute_result"
    }
   ],
   "source": [
    "pdf.count()"
   ]
  },
  {
   "cell_type": "code",
   "execution_count": 22,
   "metadata": {},
   "outputs": [],
   "source": [
    "pdf = pdf.drop(columns=[\"Unnamed: 0\"], errors='ignore') "
   ]
  },
  {
   "cell_type": "code",
   "execution_count": 27,
   "metadata": {},
   "outputs": [
    {
     "data": {
      "text/html": [
       "<div>\n",
       "<style scoped>\n",
       "    .dataframe tbody tr th:only-of-type {\n",
       "        vertical-align: middle;\n",
       "    }\n",
       "\n",
       "    .dataframe tbody tr th {\n",
       "        vertical-align: top;\n",
       "    }\n",
       "\n",
       "    .dataframe thead th {\n",
       "        text-align: right;\n",
       "    }\n",
       "</style>\n",
       "<table border=\"1\" class=\"dataframe\">\n",
       "  <thead>\n",
       "    <tr style=\"text-align: right;\">\n",
       "      <th></th>\n",
       "      <th>id</th>\n",
       "      <th>recipe_name</th>\n",
       "      <th>prep_time</th>\n",
       "      <th>cook_time</th>\n",
       "      <th>total_time</th>\n",
       "      <th>servings</th>\n",
       "      <th>yield</th>\n",
       "      <th>ingredients</th>\n",
       "      <th>directions</th>\n",
       "      <th>rating</th>\n",
       "      <th>url</th>\n",
       "      <th>cuisine_path</th>\n",
       "      <th>nutrition</th>\n",
       "      <th>timing</th>\n",
       "      <th>img_src</th>\n",
       "      <th>likes</th>\n",
       "      <th>dislikes</th>\n",
       "      <th>comment</th>\n",
       "    </tr>\n",
       "  </thead>\n",
       "  <tbody>\n",
       "    <tr>\n",
       "      <th>0</th>\n",
       "      <td>1</td>\n",
       "      <td>Apple-Cranberry Crostada</td>\n",
       "      <td>0</td>\n",
       "      <td>0</td>\n",
       "      <td>0</td>\n",
       "      <td>8</td>\n",
       "      <td>6 to 8 - servings</td>\n",
       "      <td>3 tablespoons butter, 2 pounds Granny Smith ap...</td>\n",
       "      <td>Heat butter in a large skillet over medium-hig...</td>\n",
       "      <td>4.4</td>\n",
       "      <td>https://www.allrecipes.com/recipe/76931/apple-...</td>\n",
       "      <td>/Desserts/Fruit Desserts/Apple Dessert Recipes/</td>\n",
       "      <td>Total Fat 18g 23%, Saturated Fat 7g 34%, Chole...</td>\n",
       "      <td>Servings: 8, Yield: 6 to 8 - servings</td>\n",
       "      <td>https://www.allrecipes.com/thmb/Tf1wH73bfH6Oql...</td>\n",
       "      <td>0</td>\n",
       "      <td>0</td>\n",
       "      <td>[]</td>\n",
       "    </tr>\n",
       "    <tr>\n",
       "      <th>1</th>\n",
       "      <td>2</td>\n",
       "      <td>Apple Pie by Grandma Ople</td>\n",
       "      <td>30 mins</td>\n",
       "      <td>1 hrs</td>\n",
       "      <td>1 hrs 30 mins</td>\n",
       "      <td>8</td>\n",
       "      <td>1 9-inch pie</td>\n",
       "      <td>8 small Granny Smith apples, or as needed, ½ c...</td>\n",
       "      <td>Peel and core apples, then thinly slice. Set a...</td>\n",
       "      <td>4.8</td>\n",
       "      <td>https://www.allrecipes.com/recipe/12682/apple-...</td>\n",
       "      <td>/Desserts/Pies/Apple Pie Recipes/</td>\n",
       "      <td>Total Fat 19g 24%, Saturated Fat 9g 46%, Chole...</td>\n",
       "      <td>Prep Time: 30 mins, Cook Time: 1 hrs, Total Ti...</td>\n",
       "      <td>https://www.allrecipes.com/thmb/1I95oiTGz6aEpu...</td>\n",
       "      <td>0</td>\n",
       "      <td>0</td>\n",
       "      <td>[]</td>\n",
       "    </tr>\n",
       "    <tr>\n",
       "      <th>2</th>\n",
       "      <td>3</td>\n",
       "      <td>Sarah's Homemade Applesauce</td>\n",
       "      <td>10 mins</td>\n",
       "      <td>15 mins</td>\n",
       "      <td>25 mins</td>\n",
       "      <td>4</td>\n",
       "      <td>0</td>\n",
       "      <td>4  apples - peeled, cored and chopped, ¾ cup w...</td>\n",
       "      <td>Combine apples, water, sugar, and cinnamon in ...</td>\n",
       "      <td>4.8</td>\n",
       "      <td>https://www.allrecipes.com/recipe/51301/sarahs...</td>\n",
       "      <td>/Side Dish/Applesauce Recipes/</td>\n",
       "      <td>Total Fat 0g 0%, Sodium 3mg 0%, Total Carbohyd...</td>\n",
       "      <td>Prep Time: 10 mins, Cook Time: 15 mins, Total ...</td>\n",
       "      <td>https://www.allrecipes.com/thmb/VY5d0tZHB8xz6y...</td>\n",
       "      <td>0</td>\n",
       "      <td>0</td>\n",
       "      <td>[]</td>\n",
       "    </tr>\n",
       "    <tr>\n",
       "      <th>3</th>\n",
       "      <td>4</td>\n",
       "      <td>Apple Crisp</td>\n",
       "      <td>30 mins</td>\n",
       "      <td>45 mins</td>\n",
       "      <td>1 hrs 15 mins</td>\n",
       "      <td>12</td>\n",
       "      <td>1 9x13-inch pan</td>\n",
       "      <td>10 cups all-purpose apples, peeled, cored and ...</td>\n",
       "      <td>Preheat the oven to 350 degrees F (175 degrees...</td>\n",
       "      <td>4.7</td>\n",
       "      <td>https://www.allrecipes.com/recipe/12409/apple-...</td>\n",
       "      <td>/Desserts/Crisps and Crumbles Recipes/Apple Cr...</td>\n",
       "      <td>Total Fat 8g 11%, Saturated Fat 5g 25%, Choles...</td>\n",
       "      <td>Prep Time: 30 mins, Cook Time: 45 mins, Total ...</td>\n",
       "      <td>https://www.allrecipes.com/thmb/uAzhPOh86PfR-N...</td>\n",
       "      <td>0</td>\n",
       "      <td>0</td>\n",
       "      <td>[]</td>\n",
       "    </tr>\n",
       "    <tr>\n",
       "      <th>4</th>\n",
       "      <td>5</td>\n",
       "      <td>Apple Pie Filling</td>\n",
       "      <td>20 mins</td>\n",
       "      <td>20 mins</td>\n",
       "      <td>2 hrs 40 mins</td>\n",
       "      <td>40</td>\n",
       "      <td>5 9-inch pies</td>\n",
       "      <td>18 cups thinly sliced apples, 3 tablespoons le...</td>\n",
       "      <td>Toss apples with lemon juice in a large bowl a...</td>\n",
       "      <td>4.7</td>\n",
       "      <td>https://www.allrecipes.com/recipe/12681/apple-...</td>\n",
       "      <td>/Desserts/Pies/Apple Pie Recipes/</td>\n",
       "      <td>Total Fat 0g 0%, Sodium 61mg 3%, Total Carbohy...</td>\n",
       "      <td>Prep Time: 20 mins, Cook Time: 20 mins, Additi...</td>\n",
       "      <td>https://www.allrecipes.com/thmb/c0bbYaS1V_mTt_...</td>\n",
       "      <td>0</td>\n",
       "      <td>0</td>\n",
       "      <td>[]</td>\n",
       "    </tr>\n",
       "  </tbody>\n",
       "</table>\n",
       "</div>"
      ],
      "text/plain": [
       "   id                  recipe_name prep_time cook_time     total_time  \\\n",
       "0   1     Apple-Cranberry Crostada         0         0              0   \n",
       "1   2    Apple Pie by Grandma Ople   30 mins     1 hrs  1 hrs 30 mins   \n",
       "2   3  Sarah's Homemade Applesauce   10 mins   15 mins        25 mins   \n",
       "3   4                  Apple Crisp   30 mins   45 mins  1 hrs 15 mins   \n",
       "4   5            Apple Pie Filling   20 mins   20 mins  2 hrs 40 mins   \n",
       "\n",
       "   servings              yield  \\\n",
       "0         8  6 to 8 - servings   \n",
       "1         8       1 9-inch pie   \n",
       "2         4                  0   \n",
       "3        12    1 9x13-inch pan   \n",
       "4        40      5 9-inch pies   \n",
       "\n",
       "                                         ingredients  \\\n",
       "0  3 tablespoons butter, 2 pounds Granny Smith ap...   \n",
       "1  8 small Granny Smith apples, or as needed, ½ c...   \n",
       "2  4  apples - peeled, cored and chopped, ¾ cup w...   \n",
       "3  10 cups all-purpose apples, peeled, cored and ...   \n",
       "4  18 cups thinly sliced apples, 3 tablespoons le...   \n",
       "\n",
       "                                          directions  rating  \\\n",
       "0  Heat butter in a large skillet over medium-hig...     4.4   \n",
       "1  Peel and core apples, then thinly slice. Set a...     4.8   \n",
       "2  Combine apples, water, sugar, and cinnamon in ...     4.8   \n",
       "3  Preheat the oven to 350 degrees F (175 degrees...     4.7   \n",
       "4  Toss apples with lemon juice in a large bowl a...     4.7   \n",
       "\n",
       "                                                 url  \\\n",
       "0  https://www.allrecipes.com/recipe/76931/apple-...   \n",
       "1  https://www.allrecipes.com/recipe/12682/apple-...   \n",
       "2  https://www.allrecipes.com/recipe/51301/sarahs...   \n",
       "3  https://www.allrecipes.com/recipe/12409/apple-...   \n",
       "4  https://www.allrecipes.com/recipe/12681/apple-...   \n",
       "\n",
       "                                        cuisine_path  \\\n",
       "0    /Desserts/Fruit Desserts/Apple Dessert Recipes/   \n",
       "1                  /Desserts/Pies/Apple Pie Recipes/   \n",
       "2                     /Side Dish/Applesauce Recipes/   \n",
       "3  /Desserts/Crisps and Crumbles Recipes/Apple Cr...   \n",
       "4                  /Desserts/Pies/Apple Pie Recipes/   \n",
       "\n",
       "                                           nutrition  \\\n",
       "0  Total Fat 18g 23%, Saturated Fat 7g 34%, Chole...   \n",
       "1  Total Fat 19g 24%, Saturated Fat 9g 46%, Chole...   \n",
       "2  Total Fat 0g 0%, Sodium 3mg 0%, Total Carbohyd...   \n",
       "3  Total Fat 8g 11%, Saturated Fat 5g 25%, Choles...   \n",
       "4  Total Fat 0g 0%, Sodium 61mg 3%, Total Carbohy...   \n",
       "\n",
       "                                              timing  \\\n",
       "0              Servings: 8, Yield: 6 to 8 - servings   \n",
       "1  Prep Time: 30 mins, Cook Time: 1 hrs, Total Ti...   \n",
       "2  Prep Time: 10 mins, Cook Time: 15 mins, Total ...   \n",
       "3  Prep Time: 30 mins, Cook Time: 45 mins, Total ...   \n",
       "4  Prep Time: 20 mins, Cook Time: 20 mins, Additi...   \n",
       "\n",
       "                                             img_src  likes  dislikes comment  \n",
       "0  https://www.allrecipes.com/thmb/Tf1wH73bfH6Oql...      0         0      []  \n",
       "1  https://www.allrecipes.com/thmb/1I95oiTGz6aEpu...      0         0      []  \n",
       "2  https://www.allrecipes.com/thmb/VY5d0tZHB8xz6y...      0         0      []  \n",
       "3  https://www.allrecipes.com/thmb/uAzhPOh86PfR-N...      0         0      []  \n",
       "4  https://www.allrecipes.com/thmb/c0bbYaS1V_mTt_...      0         0      []  "
      ]
     },
     "execution_count": 27,
     "metadata": {},
     "output_type": "execute_result"
    }
   ],
   "source": [
    "pdf.head()"
   ]
  },
  {
   "cell_type": "code",
   "execution_count": 26,
   "metadata": {},
   "outputs": [],
   "source": [
    "\n",
    "\n",
    "# Add an 'id' column starting from 1\n",
    "pdf.insert(0, \"id\", range(1, len(df) + 1))"
   ]
  },
  {
   "cell_type": "code",
   "execution_count": null,
   "metadata": {},
   "outputs": [],
   "source": []
  }
 ],
 "metadata": {
  "kernelspec": {
   "display_name": "venv",
   "language": "python",
   "name": "python3"
  },
  "language_info": {
   "codemirror_mode": {
    "name": "ipython",
    "version": 3
   },
   "file_extension": ".py",
   "mimetype": "text/x-python",
   "name": "python",
   "nbconvert_exporter": "python",
   "pygments_lexer": "ipython3",
   "version": "3.13.2"
  }
 },
 "nbformat": 4,
 "nbformat_minor": 2
}
